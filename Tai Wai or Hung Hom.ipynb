{
 "cells": [
  {
   "cell_type": "code",
   "execution_count": 1,
   "id": "62692efe",
   "metadata": {},
   "outputs": [],
   "source": [
    "import json"
   ]
  },
  {
   "cell_type": "code",
   "execution_count": 2,
   "id": "498dde46",
   "metadata": {},
   "outputs": [],
   "source": [
    "import requests"
   ]
  },
  {
   "cell_type": "code",
   "execution_count": 3,
   "id": "1c6e2df7",
   "metadata": {},
   "outputs": [],
   "source": [
    "import pandas as pd"
   ]
  },
  {
   "cell_type": "code",
   "execution_count": 4,
   "id": "12b0f41d",
   "metadata": {},
   "outputs": [],
   "source": [
    "BASE_URL = \"https://rt.data.gov.hk/v1/transport/mtr/getSchedule.php\""
   ]
  },
  {
   "cell_type": "code",
   "execution_count": 5,
   "id": "eb422b9a",
   "metadata": {},
   "outputs": [],
   "source": [
    "LINES_PAIR = [\n",
    "    'TML-TAW',\n",
    "    'EAL-TAW'\n",
    "]\n",
    "result = []"
   ]
  },
  {
   "cell_type": "code",
   "execution_count": 6,
   "id": "84dcf918",
   "metadata": {},
   "outputs": [],
   "source": [
    "for pair in LINES_PAIR:\n",
    "    line, sta = pair.split('-')\n",
    "    params = dict(\n",
    "        line = line,\n",
    "        sta = sta\n",
    "    )\n",
    "    resp = requests.get(BASE_URL, params = params)\n",
    "    if resp.status_code == 200:\n",
    "        resp_json = resp.json()\n",
    "        data = resp_json.get('data')\n",
    "        for key, value in data.items():\n",
    "            result.append(value)\n",
    "    else:\n",
    "        print('Error reading data')\n"
   ]
  },
  {
   "cell_type": "code",
   "execution_count": 7,
   "id": "f5a7ecca",
   "metadata": {},
   "outputs": [],
   "source": [
    "df = pd.DataFrame(result)"
   ]
  },
  {
   "cell_type": "code",
   "execution_count": 8,
   "id": "2aa48d4a",
   "metadata": {},
   "outputs": [],
   "source": [
    "TML = pd.DataFrame(df.iloc[0,-2])"
   ]
  },
  {
   "cell_type": "code",
   "execution_count": 9,
   "id": "4d6966d1",
   "metadata": {},
   "outputs": [],
   "source": [
    "EAL = pd.DataFrame(df.iloc[1,-1])"
   ]
  },
  {
   "cell_type": "code",
   "execution_count": 10,
   "id": "a2ff04a9",
   "metadata": {
    "scrolled": true
   },
   "outputs": [
    {
     "data": {
      "text/html": [
       "<div>\n",
       "<style scoped>\n",
       "    .dataframe tbody tr th:only-of-type {\n",
       "        vertical-align: middle;\n",
       "    }\n",
       "\n",
       "    .dataframe tbody tr th {\n",
       "        vertical-align: top;\n",
       "    }\n",
       "\n",
       "    .dataframe thead th {\n",
       "        text-align: right;\n",
       "    }\n",
       "</style>\n",
       "<table border=\"1\" class=\"dataframe\">\n",
       "  <thead>\n",
       "    <tr style=\"text-align: right;\">\n",
       "      <th></th>\n",
       "      <th>Sequence</th>\n",
       "      <th>Destination</th>\n",
       "      <th>Platform</th>\n",
       "      <th>ETA</th>\n",
       "      <th>Minutes to next train</th>\n",
       "    </tr>\n",
       "  </thead>\n",
       "  <tbody>\n",
       "    <tr>\n",
       "      <th>0</th>\n",
       "      <td>1</td>\n",
       "      <td>TUM</td>\n",
       "      <td>3</td>\n",
       "      <td>2023-07-15 17:45:40</td>\n",
       "      <td>0</td>\n",
       "    </tr>\n",
       "    <tr>\n",
       "      <th>0</th>\n",
       "      <td>1</td>\n",
       "      <td>ADM</td>\n",
       "      <td>2</td>\n",
       "      <td>2023-07-15 17:46:37</td>\n",
       "      <td>1</td>\n",
       "    </tr>\n",
       "    <tr>\n",
       "      <th>1</th>\n",
       "      <td>2</td>\n",
       "      <td>ADM</td>\n",
       "      <td>2</td>\n",
       "      <td>2023-07-15 17:49:37</td>\n",
       "      <td>4</td>\n",
       "    </tr>\n",
       "    <tr>\n",
       "      <th>1</th>\n",
       "      <td>2</td>\n",
       "      <td>TUM</td>\n",
       "      <td>3</td>\n",
       "      <td>2023-07-15 17:49:40</td>\n",
       "      <td>4</td>\n",
       "    </tr>\n",
       "    <tr>\n",
       "      <th>2</th>\n",
       "      <td>3</td>\n",
       "      <td>ADM</td>\n",
       "      <td>2</td>\n",
       "      <td>2023-07-15 17:53:37</td>\n",
       "      <td>8</td>\n",
       "    </tr>\n",
       "    <tr>\n",
       "      <th>2</th>\n",
       "      <td>3</td>\n",
       "      <td>TUM</td>\n",
       "      <td>3</td>\n",
       "      <td>2023-07-15 17:54:40</td>\n",
       "      <td>9</td>\n",
       "    </tr>\n",
       "    <tr>\n",
       "      <th>3</th>\n",
       "      <td>4</td>\n",
       "      <td>ADM</td>\n",
       "      <td>2</td>\n",
       "      <td>2023-07-15 17:57:37</td>\n",
       "      <td>12</td>\n",
       "    </tr>\n",
       "    <tr>\n",
       "      <th>3</th>\n",
       "      <td>4</td>\n",
       "      <td>TUM</td>\n",
       "      <td>3</td>\n",
       "      <td>2023-07-15 17:59:40</td>\n",
       "      <td>14</td>\n",
       "    </tr>\n",
       "  </tbody>\n",
       "</table>\n",
       "</div>"
      ],
      "text/plain": [
       "  Sequence Destination Platform                  ETA Minutes to next train\n",
       "0        1         TUM        3  2023-07-15 17:45:40                     0\n",
       "0        1         ADM        2  2023-07-15 17:46:37                     1\n",
       "1        2         ADM        2  2023-07-15 17:49:37                     4\n",
       "1        2         TUM        3  2023-07-15 17:49:40                     4\n",
       "2        3         ADM        2  2023-07-15 17:53:37                     8\n",
       "2        3         TUM        3  2023-07-15 17:54:40                     9\n",
       "3        4         ADM        2  2023-07-15 17:57:37                    12\n",
       "3        4         TUM        3  2023-07-15 17:59:40                    14"
      ]
     },
     "execution_count": 10,
     "metadata": {},
     "output_type": "execute_result"
    }
   ],
   "source": [
    "stack = pd.concat([TML,EAL], axis=0).sort_values(by = ['time']).drop(['valid','source','route','timeType'],axis = 1).rename(columns = {\n",
    "    \"seq\": \"Sequence\",\n",
    "    \"dest\": \"Destination\",\n",
    "    \"plat\":\"Platform\",\n",
    "    \"time\": \"ETA\",\n",
    "    \"ttnt\":\"Minutes to next train\"})\n",
    "stack"
   ]
  },
  {
   "cell_type": "code",
   "execution_count": null,
   "id": "901e71bf",
   "metadata": {},
   "outputs": [],
   "source": []
  }
 ],
 "metadata": {
  "kernelspec": {
   "display_name": "Python 3 (ipykernel)",
   "language": "python",
   "name": "python3"
  },
  "language_info": {
   "codemirror_mode": {
    "name": "ipython",
    "version": 3
   },
   "file_extension": ".py",
   "mimetype": "text/x-python",
   "name": "python",
   "nbconvert_exporter": "python",
   "pygments_lexer": "ipython3",
   "version": "3.10.9"
  }
 },
 "nbformat": 4,
 "nbformat_minor": 5
}
